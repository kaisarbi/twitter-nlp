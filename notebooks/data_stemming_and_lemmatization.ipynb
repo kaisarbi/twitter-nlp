{
 "cells": [
  {
   "cell_type": "code",
   "execution_count": 12,
   "metadata": {},
   "outputs": [],
   "source": [
    "# Numpy\n",
    "import numpy as np\n",
    "\n",
    "# Pandas\n",
    "import pandas as pd\n",
    "\n",
    "# Regular expression\n",
    "import re\n",
    "\n",
    "# Stemmers\n",
    "from nltk.stem.porter import PorterStemmer\n",
    "from nltk.stem.lancaster import LancasterStemmer\n",
    "from nltk.stem import SnowballStemmer\n",
    "\n",
    "# Lemmatizers\n",
    "from nltk.stem import WordNetLemmatizer"
   ]
  },
  {
   "cell_type": "code",
   "execution_count": 2,
   "metadata": {},
   "outputs": [],
   "source": [
    "df = pd.read_csv('../data/processed/train_set.csv')"
   ]
  },
  {
   "cell_type": "code",
   "execution_count": 3,
   "metadata": {},
   "outputs": [
    {
     "data": {
      "text/html": [
       "<div>\n",
       "<style scoped>\n",
       "    .dataframe tbody tr th:only-of-type {\n",
       "        vertical-align: middle;\n",
       "    }\n",
       "\n",
       "    .dataframe tbody tr th {\n",
       "        vertical-align: top;\n",
       "    }\n",
       "\n",
       "    .dataframe thead th {\n",
       "        text-align: right;\n",
       "    }\n",
       "</style>\n",
       "<table border=\"1\" class=\"dataframe\">\n",
       "  <thead>\n",
       "    <tr style=\"text-align: right;\">\n",
       "      <th></th>\n",
       "      <th>id</th>\n",
       "      <th>label</th>\n",
       "      <th>tweet_normalized</th>\n",
       "    </tr>\n",
       "  </thead>\n",
       "  <tbody>\n",
       "    <tr>\n",
       "      <th>0</th>\n",
       "      <td>1</td>\n",
       "      <td>0</td>\n",
       "      <td>USER_MENTION father dysfunctional selfish drag...</td>\n",
       "    </tr>\n",
       "    <tr>\n",
       "      <th>1</th>\n",
       "      <td>2</td>\n",
       "      <td>0</td>\n",
       "      <td>USER_MENTION USER_MENTION thanks lyft credit c...</td>\n",
       "    </tr>\n",
       "    <tr>\n",
       "      <th>2</th>\n",
       "      <td>3</td>\n",
       "      <td>0</td>\n",
       "      <td>bihday majesty</td>\n",
       "    </tr>\n",
       "    <tr>\n",
       "      <th>3</th>\n",
       "      <td>4</td>\n",
       "      <td>0</td>\n",
       "      <td>model love u take u time ur</td>\n",
       "    </tr>\n",
       "    <tr>\n",
       "      <th>4</th>\n",
       "      <td>5</td>\n",
       "      <td>0</td>\n",
       "      <td>factsguide society motivation</td>\n",
       "    </tr>\n",
       "  </tbody>\n",
       "</table>\n",
       "</div>"
      ],
      "text/plain": [
       "   id  label                                   tweet_normalized\n",
       "0   1      0  USER_MENTION father dysfunctional selfish drag...\n",
       "1   2      0  USER_MENTION USER_MENTION thanks lyft credit c...\n",
       "2   3      0                                     bihday majesty\n",
       "3   4      0                        model love u take u time ur\n",
       "4   5      0                      factsguide society motivation"
      ]
     },
     "execution_count": 3,
     "metadata": {},
     "output_type": "execute_result"
    }
   ],
   "source": [
    "df.head()"
   ]
  },
  {
   "cell_type": "markdown",
   "metadata": {},
   "source": [
    "# Stemming"
   ]
  },
  {
   "cell_type": "markdown",
   "metadata": {},
   "source": [
    "To understand stemming, you need to gain some perspective on what word stems represent. Word stems are also known as the base form of a word, and we can create new words by attaching affixes to them in a process known as inflection. Consider the word JUMP. You can add affixes to it and form new words like JUMPS, JUMPED, and JUMPING. In this case, the base word JUMP is the word stem.\n",
    "\n",
    "The reverse process of obtaining the base form of a word from its inflected form is known as stemming. Stemming helps us in standardizing words to their base or root stem, irrespective of their inflections, which helps many applications like classifying or clustering text, and even in information retrieval. "
   ]
  },
  {
   "cell_type": "code",
   "execution_count": 4,
   "metadata": {},
   "outputs": [
    {
     "data": {
      "text/plain": [
       "'My system keep crash hi crash yesterday, our crash daili'"
      ]
     },
     "execution_count": 4,
     "metadata": {},
     "output_type": "execute_result"
    }
   ],
   "source": [
    "def ps_stemmer(tweet):\n",
    "    ps = PorterStemmer()\n",
    "    tweet = ' '.join([ps.stem(word) for word in tweet.split()])\n",
    "    return tweet\n",
    "\n",
    "ps_stemmer(\"My system keeps crashing his crashed yesterday, ours crashes daily\")"
   ]
  },
  {
   "cell_type": "code",
   "execution_count": 5,
   "metadata": {},
   "outputs": [
    {
     "data": {
      "text/plain": [
       "'my system keep crash his crash yesterday, our crash dai'"
      ]
     },
     "execution_count": 5,
     "metadata": {},
     "output_type": "execute_result"
    }
   ],
   "source": [
    "def ls_stemmer(tweet):\n",
    "    ls = LancasterStemmer()\n",
    "    tweet = ' '.join([ls.stem(word) for word in tweet.split()])\n",
    "    return tweet\n",
    "\n",
    "ls_stemmer(\"My system keeps crashing his crashed yesterday, ours crashes daily\")"
   ]
  },
  {
   "cell_type": "code",
   "execution_count": 10,
   "metadata": {},
   "outputs": [
    {
     "data": {
      "text/plain": [
       "'my system keep crash his crash yesterday, our crash daili'"
      ]
     },
     "execution_count": 10,
     "metadata": {},
     "output_type": "execute_result"
    }
   ],
   "source": [
    "def ss_stemmer(tweet):\n",
    "    ss = SnowballStemmer('english')\n",
    "    tweet = ' '.join([ss.stem(word) for word in tweet.split()])\n",
    "    return tweet\n",
    "\n",
    "ss_stemmer(\"My system keeps crashing his crashed yesterday, ours crashes daily\")"
   ]
  },
  {
   "cell_type": "code",
   "execution_count": 11,
   "metadata": {},
   "outputs": [
    {
     "name": "stdout",
     "output_type": "stream",
     "text": [
      "--- 31.627742290496826 seconds ---\n"
     ]
    }
   ],
   "source": [
    "import time\n",
    "start_time = time.time()\n",
    "for i in range(len(df)): \n",
    "    df.at[i, 'tweet_stemmed_porter_stemmer'] = ps_stemmer(str(df['tweet_normalized'][i]))\n",
    "    df.at[i, 'tweet_stemmed_lancaster_stemmer'] = ls_stemmer(str(df['tweet_normalized'][i]))\n",
    "    df.at[i, 'tweet_stemmed_snowball_stemmer'] = ss_stemmer(str(df['tweet_normalized'][i]))\n",
    "print(\"--- %s seconds ---\" % (time.time() - start_time))"
   ]
  },
  {
   "cell_type": "markdown",
   "metadata": {},
   "source": [
    "# Lemmatization"
   ]
  },
  {
   "cell_type": "markdown",
   "metadata": {},
   "source": [
    "Lemmatization is very similar to stemming, where we remove word affixes to get to the base form of a word. However, the base form in this case is known as the root word, but not the root stem. The difference being that the root word is always a lexicographically correct word (present in the dictionary), but the root stem may not be so. Thus, root word, also known as the lemma, will always be present in the dictionary. "
   ]
  },
  {
   "cell_type": "code",
   "execution_count": 7,
   "metadata": {},
   "outputs": [
    {
     "data": {
      "text/html": [
       "<div>\n",
       "<style scoped>\n",
       "    .dataframe tbody tr th:only-of-type {\n",
       "        vertical-align: middle;\n",
       "    }\n",
       "\n",
       "    .dataframe tbody tr th {\n",
       "        vertical-align: top;\n",
       "    }\n",
       "\n",
       "    .dataframe thead th {\n",
       "        text-align: right;\n",
       "    }\n",
       "</style>\n",
       "<table border=\"1\" class=\"dataframe\">\n",
       "  <thead>\n",
       "    <tr style=\"text-align: right;\">\n",
       "      <th></th>\n",
       "      <th>id</th>\n",
       "      <th>label</th>\n",
       "      <th>tweet_normalized</th>\n",
       "      <th>tweet_stemmed_porter_stemmer</th>\n",
       "      <th>tweet_stemmed_lancaster_stemmer</th>\n",
       "    </tr>\n",
       "  </thead>\n",
       "  <tbody>\n",
       "    <tr>\n",
       "      <th>0</th>\n",
       "      <td>1</td>\n",
       "      <td>0</td>\n",
       "      <td>USER_MENTION father dysfunctional selfish drag...</td>\n",
       "      <td>user_ment father dysfunct selfish drag kid dys...</td>\n",
       "      <td>user_mention fath dysfunct self drag kid dysfu...</td>\n",
       "    </tr>\n",
       "    <tr>\n",
       "      <th>1</th>\n",
       "      <td>2</td>\n",
       "      <td>0</td>\n",
       "      <td>USER_MENTION USER_MENTION thanks lyft credit c...</td>\n",
       "      <td>user_ment user_ment thank lyft credit cant use...</td>\n",
       "      <td>user_mention user_mention thank lyft credit ca...</td>\n",
       "    </tr>\n",
       "    <tr>\n",
       "      <th>2</th>\n",
       "      <td>3</td>\n",
       "      <td>0</td>\n",
       "      <td>bihday majesty</td>\n",
       "      <td>bihday majesti</td>\n",
       "      <td>bihday majesty</td>\n",
       "    </tr>\n",
       "    <tr>\n",
       "      <th>3</th>\n",
       "      <td>4</td>\n",
       "      <td>0</td>\n",
       "      <td>model love u take u time ur</td>\n",
       "      <td>model love u take u time ur</td>\n",
       "      <td>model lov u tak u tim ur</td>\n",
       "    </tr>\n",
       "    <tr>\n",
       "      <th>4</th>\n",
       "      <td>5</td>\n",
       "      <td>0</td>\n",
       "      <td>factsguide society motivation</td>\n",
       "      <td>factsguid societi motiv</td>\n",
       "      <td>factsguid socy mot</td>\n",
       "    </tr>\n",
       "  </tbody>\n",
       "</table>\n",
       "</div>"
      ],
      "text/plain": [
       "   id  label                                   tweet_normalized  \\\n",
       "0   1      0  USER_MENTION father dysfunctional selfish drag...   \n",
       "1   2      0  USER_MENTION USER_MENTION thanks lyft credit c...   \n",
       "2   3      0                                     bihday majesty   \n",
       "3   4      0                        model love u take u time ur   \n",
       "4   5      0                      factsguide society motivation   \n",
       "\n",
       "                        tweet_stemmed_porter_stemmer  \\\n",
       "0  user_ment father dysfunct selfish drag kid dys...   \n",
       "1  user_ment user_ment thank lyft credit cant use...   \n",
       "2                                     bihday majesti   \n",
       "3                        model love u take u time ur   \n",
       "4                            factsguid societi motiv   \n",
       "\n",
       "                     tweet_stemmed_lancaster_stemmer  \n",
       "0  user_mention fath dysfunct self drag kid dysfu...  \n",
       "1  user_mention user_mention thank lyft credit ca...  \n",
       "2                                     bihday majesty  \n",
       "3                           model lov u tak u tim ur  \n",
       "4                                 factsguid socy mot  "
      ]
     },
     "execution_count": 7,
     "metadata": {},
     "output_type": "execute_result"
    }
   ],
   "source": [
    "df.head()"
   ]
  },
  {
   "cell_type": "code",
   "execution_count": 17,
   "metadata": {},
   "outputs": [
    {
     "data": {
      "text/plain": [
       "'My system keep crashing his crashed yesterday, ours crash daily'"
      ]
     },
     "execution_count": 17,
     "metadata": {},
     "output_type": "execute_result"
    }
   ],
   "source": [
    "def wn_lemmatizer(tweet):\n",
    "    wn = WordNetLemmatizer()\n",
    "    tweet = ' '.join([wn.lemmatize(word) for word in tweet.split()])\n",
    "    return tweet\n",
    "\n",
    "wn_lemmatizer(\"My system keeps crashing his crashed yesterday, ours crashes daily\")"
   ]
  },
  {
   "cell_type": "code",
   "execution_count": 18,
   "metadata": {},
   "outputs": [
    {
     "name": "stdout",
     "output_type": "stream",
     "text": [
      "--- 2.821909189224243 seconds ---\n"
     ]
    }
   ],
   "source": [
    "import time\n",
    "start_time = time.time()\n",
    "for i in range(len(df)): \n",
    "    df.at[i, 'tweet_lemmatized_wordnet'] = wn_lemmatizer(str(df['tweet_normalized'][i]))\n",
    "print(\"--- %s seconds ---\" % (time.time() - start_time))"
   ]
  },
  {
   "cell_type": "code",
   "execution_count": 19,
   "metadata": {},
   "outputs": [
    {
     "data": {
      "text/html": [
       "<div>\n",
       "<style scoped>\n",
       "    .dataframe tbody tr th:only-of-type {\n",
       "        vertical-align: middle;\n",
       "    }\n",
       "\n",
       "    .dataframe tbody tr th {\n",
       "        vertical-align: top;\n",
       "    }\n",
       "\n",
       "    .dataframe thead th {\n",
       "        text-align: right;\n",
       "    }\n",
       "</style>\n",
       "<table border=\"1\" class=\"dataframe\">\n",
       "  <thead>\n",
       "    <tr style=\"text-align: right;\">\n",
       "      <th></th>\n",
       "      <th>id</th>\n",
       "      <th>label</th>\n",
       "      <th>tweet_normalized</th>\n",
       "      <th>tweet_stemmed_porter_stemmer</th>\n",
       "      <th>tweet_stemmed_lancaster_stemmer</th>\n",
       "      <th>tweet_stemmed_snowball_stemmer</th>\n",
       "      <th>tweet_lemmatized_wordnet</th>\n",
       "    </tr>\n",
       "  </thead>\n",
       "  <tbody>\n",
       "    <tr>\n",
       "      <th>0</th>\n",
       "      <td>1</td>\n",
       "      <td>0</td>\n",
       "      <td>USER_MENTION father dysfunctional selfish drag...</td>\n",
       "      <td>user_ment father dysfunct selfish drag kid dys...</td>\n",
       "      <td>user_mention fath dysfunct self drag kid dysfu...</td>\n",
       "      <td>user_ment father dysfunct selfish drag kid dys...</td>\n",
       "      <td>USER_MENTION father dysfunctional selfish drag...</td>\n",
       "    </tr>\n",
       "    <tr>\n",
       "      <th>1</th>\n",
       "      <td>2</td>\n",
       "      <td>0</td>\n",
       "      <td>USER_MENTION USER_MENTION thanks lyft credit c...</td>\n",
       "      <td>user_ment user_ment thank lyft credit cant use...</td>\n",
       "      <td>user_mention user_mention thank lyft credit ca...</td>\n",
       "      <td>user_ment user_ment thank lyft credit cant use...</td>\n",
       "      <td>USER_MENTION USER_MENTION thanks lyft credit c...</td>\n",
       "    </tr>\n",
       "    <tr>\n",
       "      <th>2</th>\n",
       "      <td>3</td>\n",
       "      <td>0</td>\n",
       "      <td>bihday majesty</td>\n",
       "      <td>bihday majesti</td>\n",
       "      <td>bihday majesty</td>\n",
       "      <td>bihday majesti</td>\n",
       "      <td>bihday majesty</td>\n",
       "    </tr>\n",
       "    <tr>\n",
       "      <th>3</th>\n",
       "      <td>4</td>\n",
       "      <td>0</td>\n",
       "      <td>model love u take u time ur</td>\n",
       "      <td>model love u take u time ur</td>\n",
       "      <td>model lov u tak u tim ur</td>\n",
       "      <td>model love u take u time ur</td>\n",
       "      <td>model love u take u time ur</td>\n",
       "    </tr>\n",
       "    <tr>\n",
       "      <th>4</th>\n",
       "      <td>5</td>\n",
       "      <td>0</td>\n",
       "      <td>factsguide society motivation</td>\n",
       "      <td>factsguid societi motiv</td>\n",
       "      <td>factsguid socy mot</td>\n",
       "      <td>factsguid societi motiv</td>\n",
       "      <td>factsguide society motivation</td>\n",
       "    </tr>\n",
       "  </tbody>\n",
       "</table>\n",
       "</div>"
      ],
      "text/plain": [
       "   id  label                                   tweet_normalized  \\\n",
       "0   1      0  USER_MENTION father dysfunctional selfish drag...   \n",
       "1   2      0  USER_MENTION USER_MENTION thanks lyft credit c...   \n",
       "2   3      0                                     bihday majesty   \n",
       "3   4      0                        model love u take u time ur   \n",
       "4   5      0                      factsguide society motivation   \n",
       "\n",
       "                        tweet_stemmed_porter_stemmer  \\\n",
       "0  user_ment father dysfunct selfish drag kid dys...   \n",
       "1  user_ment user_ment thank lyft credit cant use...   \n",
       "2                                     bihday majesti   \n",
       "3                        model love u take u time ur   \n",
       "4                            factsguid societi motiv   \n",
       "\n",
       "                     tweet_stemmed_lancaster_stemmer  \\\n",
       "0  user_mention fath dysfunct self drag kid dysfu...   \n",
       "1  user_mention user_mention thank lyft credit ca...   \n",
       "2                                     bihday majesty   \n",
       "3                           model lov u tak u tim ur   \n",
       "4                                 factsguid socy mot   \n",
       "\n",
       "                      tweet_stemmed_snowball_stemmer  \\\n",
       "0  user_ment father dysfunct selfish drag kid dys...   \n",
       "1  user_ment user_ment thank lyft credit cant use...   \n",
       "2                                     bihday majesti   \n",
       "3                        model love u take u time ur   \n",
       "4                            factsguid societi motiv   \n",
       "\n",
       "                            tweet_lemmatized_wordnet  \n",
       "0  USER_MENTION father dysfunctional selfish drag...  \n",
       "1  USER_MENTION USER_MENTION thanks lyft credit c...  \n",
       "2                                     bihday majesty  \n",
       "3                        model love u take u time ur  \n",
       "4                      factsguide society motivation  "
      ]
     },
     "execution_count": 19,
     "metadata": {},
     "output_type": "execute_result"
    }
   ],
   "source": [
    "df.head()"
   ]
  },
  {
   "cell_type": "code",
   "execution_count": 20,
   "metadata": {},
   "outputs": [],
   "source": [
    "df.to_csv('../data/processed/train_stem_lem.csv', encoding='utf-8', index=False)"
   ]
  },
  {
   "cell_type": "code",
   "execution_count": null,
   "metadata": {},
   "outputs": [],
   "source": []
  }
 ],
 "metadata": {
  "kernelspec": {
   "display_name": "Python 3",
   "language": "python",
   "name": "python3"
  },
  "language_info": {
   "codemirror_mode": {
    "name": "ipython",
    "version": 3
   },
   "file_extension": ".py",
   "mimetype": "text/x-python",
   "name": "python",
   "nbconvert_exporter": "python",
   "pygments_lexer": "ipython3",
   "version": "3.6.5"
  }
 },
 "nbformat": 4,
 "nbformat_minor": 2
}
